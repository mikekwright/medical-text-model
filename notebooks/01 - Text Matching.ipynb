{
 "cells": [
  {
   "cell_type": "markdown",
   "metadata": {},
   "source": [
    "# Text Matching\n",
    "\n",
    "So for our first implementation we are going to basically create a list of medical words.  We will\n",
    "then compare the content of document to our list of medical words and say that a document is a \n",
    "medical document if any of those words are found on the document.  "
   ]
  },
  {
   "cell_type": "markdown",
   "metadata": {},
   "source": [
    "## First Step\n",
    "\n",
    "The first step we have is to gain access to a list of medical terms.  For our first steps we are going\n",
    "to use terms that we can find online.  One of the better known medical websites is \n",
    "[webmd.com](https://webmd.com), which happens to have a dictionary containing some medical terms.  \n",
    "\n",
    "Let's first start by scraping the list of terms from this site. "
   ]
  },
  {
   "cell_type": "code",
   "execution_count": 14,
   "metadata": {},
   "outputs": [],
   "source": [
    "# Start by loading our imports\n",
    "\n",
    "import bs4\n",
    "import requests\n",
    "import itertools\n",
    "import json\n",
    "import os\n",
    "import string\n",
    "import time\n",
    "\n",
    "from bs4 import BeautifulSoup"
   ]
  },
  {
   "cell_type": "markdown",
   "metadata": {},
   "source": [
    "Now that we have our imports in place, lets start by doing a quick analysis of the webpage format.  This\n",
    "will be required so that we can utilize beautiful soup to correctly extract the text we are looking for.  \n",
    "\n",
    "So the first page we will be looking at is \n",
    "[the collection of words that start with A](https://dictionary.webmd.com/default.htm?filter=A).  \n",
    "\n",
    "If we look over the format we an see that we are looking for a single `ul` tag that has the classname\n",
    "of `az-index-results-group-list`.  After getting that element, each `li` element's text contains the\n",
    "medical words that we are looking for.  "
   ]
  },
  {
   "cell_type": "code",
   "execution_count": 12,
   "metadata": {},
   "outputs": [],
   "source": [
    "def read_terms_from_webmd():\n",
    "    base_url = 'https://dictionary.webmd.com/default.htm?filter='\n",
    "    \n",
    "    words = []\n",
    "    for l in list(string.ascii_lowercase):\n",
    "        url = base_url + l.upper()\n",
    "        \n",
    "        result = requests.get(url)\n",
    "        status_code = result.status_code\n",
    "        content = result.content\n",
    "\n",
    "        if status_code < 200 or status_code >= 300:\n",
    "            # We failed, so don't return any results\n",
    "            return None\n",
    "\n",
    "        soup = BeautifulSoup(content, 'html5lib')\n",
    "        word_list_tag = soup.find('ul', class_='az-index-results-group-list')\n",
    "        word_tags = word_list_tag.find_all('li')\n",
    "        \n",
    "        words.extend([w.get_text().strip() for w in word_tags])\n",
    "        \n",
    "    return words"
   ]
  },
  {
   "cell_type": "code",
   "execution_count": 13,
   "metadata": {},
   "outputs": [
    {
     "data": {
      "text/plain": [
       "'Ablutophobia'"
      ]
     },
     "execution_count": 13,
     "metadata": {},
     "output_type": "execute_result"
    }
   ],
   "source": [
    "all_terms = read_terms_from_webmd()\n",
    "all_terms[0]"
   ]
  },
  {
   "cell_type": "markdown",
   "metadata": {},
   "source": [
    "We have downloaded our terms, lets go ahead and store them to disk (if needed).  "
   ]
  },
  {
   "cell_type": "code",
   "execution_count": 19,
   "metadata": {},
   "outputs": [],
   "source": [
    "save_to_disk = False\n",
    "\n",
    "if save_to_disk:\n",
    "    directory = os.path.join('..', 'data')\n",
    "    filename = f'webmd_dictionary_{time.strftime(\"%Y-%m-%d\")}.txt'\n",
    "    with open(os.path.join(directory, filename), 'w') as webmd_file:\n",
    "        for line in all_terms:\n",
    "            print(line, file=webmd_file)\n",
    "            \n",
    "def load_webmd_from_disk(filename):\n",
    "    with open(filename, 'r') as webmd_file:\n",
    "        return [l.strip() for l in webmd_file]\n",
    "        "
   ]
  },
  {
   "cell_type": "markdown",
   "metadata": {},
   "source": [
    "For now we are not going to do much to sterilize the data, but just take it at face value. Normally\n",
    "we would want to make sure that we aren't seeing any oddities in the data, but we can get to that\n",
    "after trying this for a bit.  "
   ]
  },
  {
   "cell_type": "markdown",
   "metadata": {},
   "source": [
    "## Second Step\n",
    "\n",
    "In our first step we obtained a list of medical terms that we can not check for their existence\n",
    "in a body of text (including a document) and if any words are found we will label that text as being\n",
    "medical in nature.  \n",
    "\n",
    "We will create the comparison function and run it against all the data that we are trying to label\n",
    "correctly.  "
   ]
  },
  {
   "cell_type": "code",
   "execution_count": 24,
   "metadata": {},
   "outputs": [],
   "source": [
    "webmd_terms_file = 'webmd_dictionary_2018-08-05.txt'\n",
    "\n",
    "all_terms = load_webmd_from_disk(os.path.join('..', 'data', webmd_terms_file))\n",
    "def is_text_medical(text):\n",
    "    return any((term in text for term in all_terms))"
   ]
  },
  {
   "cell_type": "code",
   "execution_count": 27,
   "metadata": {},
   "outputs": [],
   "source": [
    "## TODO: Load the test set and check to see how well our solution works. "
   ]
  },
  {
   "cell_type": "code",
   "execution_count": null,
   "metadata": {},
   "outputs": [],
   "source": []
  }
 ],
 "metadata": {
  "kernelspec": {
   "display_name": "Python 3",
   "language": "python",
   "name": "python3"
  },
  "language_info": {
   "codemirror_mode": {
    "name": "ipython",
    "version": 3
   },
   "file_extension": ".py",
   "mimetype": "text/x-python",
   "name": "python",
   "nbconvert_exporter": "python",
   "pygments_lexer": "ipython3",
   "version": "3.6.6"
  }
 },
 "nbformat": 4,
 "nbformat_minor": 2
}
